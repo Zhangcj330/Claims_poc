{
  "cells": [
    {
      "cell_type": "raw",
      "metadata": {
        "vscode": {
          "languageId": "raw"
        }
      },
      "source": [
        "# OCR Chunks Review System Demo\n",
        "\n",
        "这个 notebook 演示如何使用基于 Gemini 2.5 的 OCR chunks 质量检查和改进系统。\n",
        "\n",
        "## 系统功能\n",
        "\n",
        "1. **自动检查**: 将现有的 chunks 与原始 PDF 图像进行对比\n",
        "2. **质量评分**: 使用 Gemini 2.5 对每页的准确性进行评分\n",
        "3. **智能改进**: 对质量不达标的页面重新生成 chunks\n",
        "4. **详细报告**: 生成详细的检查报告和改进建议\n"
      ]
    },
    {
      "cell_type": "code",
      "execution_count": null,
      "metadata": {},
      "outputs": [],
      "source": [
        "# 安装必要的依赖包\n",
        "%pip install python-dotenv langchain-google-genai PyMuPDF Pillow\n"
      ]
    },
    {
      "cell_type": "code",
      "execution_count": null,
      "metadata": {},
      "outputs": [],
      "source": [
        "import os\n",
        "import json\n",
        "from chunks_reviewer import ChunksReviewer\n",
        "from dotenv import load_dotenv\n",
        "\n",
        "# 加载环境变量\n",
        "load_dotenv()\n",
        "\n",
        "# 检查 API key\n",
        "if not os.getenv('GOOGLE_API_KEY'):\n",
        "    print(\"⚠️  请在 .env 文件中设置 GOOGLE_API_KEY\")\n",
        "else:\n",
        "    print(\"✅ Google API Key 已设置\")\n"
      ]
    }
  ],
  "metadata": {
    "language_info": {
      "name": "python"
    }
  },
  "nbformat": 4,
  "nbformat_minor": 2
}
