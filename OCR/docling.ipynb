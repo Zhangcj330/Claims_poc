{
 "cells": [
  {
   "cell_type": "code",
   "execution_count": 1,
   "metadata": {},
   "outputs": [
    {
     "ename": "ModuleNotFoundError",
     "evalue": "No module named 'docling.document_converter'; 'docling' is not a package",
     "output_type": "error",
     "traceback": [
      "\u001b[31m---------------------------------------------------------------------------\u001b[39m",
      "\u001b[31mModuleNotFoundError\u001b[39m                       Traceback (most recent call last)",
      "\u001b[36mCell\u001b[39m\u001b[36m \u001b[39m\u001b[32mIn[1]\u001b[39m\u001b[32m, line 1\u001b[39m\n\u001b[32m----> \u001b[39m\u001b[32m1\u001b[39m \u001b[38;5;28;01mfrom\u001b[39;00m\u001b[38;5;250m \u001b[39m\u001b[34;01mdocling\u001b[39;00m\u001b[34;01m.\u001b[39;00m\u001b[34;01mdocument_converter\u001b[39;00m\u001b[38;5;250m \u001b[39m\u001b[38;5;28;01mimport\u001b[39;00m DocumentConverter\n\u001b[32m      2\u001b[39m \u001b[38;5;28;01mimport\u001b[39;00m\u001b[38;5;250m \u001b[39m\u001b[34;01mos\u001b[39;00m\n\u001b[32m      4\u001b[39m source = \u001b[33m\"\u001b[39m\u001b[33mTALR7983-0923-accelerated-protection-pds-8-sep-2023.pdf\u001b[39m\u001b[33m\"\u001b[39m  \u001b[38;5;66;03m# document per local path or URL\u001b[39;00m\n",
      "\u001b[36mFile \u001b[39m\u001b[32m~/Claims_poc/OCR/docling.py:1\u001b[39m\n\u001b[32m----> \u001b[39m\u001b[32m1\u001b[39m \u001b[38;5;28;01mfrom\u001b[39;00m\u001b[38;5;250m \u001b[39m\u001b[34;01mdocling\u001b[39;00m\u001b[34;01m.\u001b[39;00m\u001b[34;01mdocument_converter\u001b[39;00m\u001b[38;5;250m \u001b[39m\u001b[38;5;28;01mimport\u001b[39;00m DocumentConverter\n\u001b[32m      2\u001b[39m \u001b[38;5;28;01mimport\u001b[39;00m\u001b[38;5;250m \u001b[39m\u001b[34;01mos\u001b[39;00m\n\u001b[32m      4\u001b[39m source = \u001b[33m\"\u001b[39m\u001b[33mTALR7983-0923-accelerated-protection-pds-8-sep-2023.pdf\u001b[39m\u001b[33m\"\u001b[39m  \u001b[38;5;66;03m# document per local path or URL\u001b[39;00m\n",
      "\u001b[31mModuleNotFoundError\u001b[39m: No module named 'docling.document_converter'; 'docling' is not a package"
     ]
    }
   ],
   "source": [
    "from docling.document_converter import DocumentConverter\n",
    "import os\n",
    "\n",
    "source = \"TALR7983-0923-accelerated-protection-pds-8-sep-2023.pdf\"  # document per local path or URL\n",
    "converter = DocumentConverter()\n",
    "result = converter.convert(source)\n",
    "\n",
    "# Get the markdown content\n",
    "markdown_content = result.document.export_to_markdown()\n",
    "\n",
    "# Create output filename with .md extension\n",
    "output_filename = os.path.splitext(source)[0] + \".md\"\n",
    "\n",
    "# Save to file\n",
    "with open(output_filename, 'w', encoding='utf-8') as f:\n",
    "    f.write(markdown_content)\n",
    "\n",
    "print(f\"Document converted and saved as: {output_filename}\")\n",
    "print(f\"File size: {len(markdown_content)} characters\")\n",
    "print(\"\\nFirst 500 characters of the converted document:\")\n",
    "print(markdown_content[:500] + \"...\")"
   ]
  }
 ],
 "metadata": {
  "kernelspec": {
   "display_name": "myenv",
   "language": "python",
   "name": "python3"
  },
  "language_info": {
   "codemirror_mode": {
    "name": "ipython",
    "version": 3
   },
   "file_extension": ".py",
   "mimetype": "text/x-python",
   "name": "python",
   "nbconvert_exporter": "python",
   "pygments_lexer": "ipython3",
   "version": "3.12.9"
  }
 },
 "nbformat": 4,
 "nbformat_minor": 2
}
